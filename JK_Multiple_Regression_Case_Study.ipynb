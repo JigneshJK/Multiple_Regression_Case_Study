{
  "nbformat": 4,
  "nbformat_minor": 0,
  "metadata": {
    "colab": {
      "name": "JK_Multiple_Regression_Case_Study.ipynb",
      "provenance": [],
      "collapsed_sections": [],
      "include_colab_link": true
    },
    "kernelspec": {
      "name": "python3",
      "display_name": "Python 3"
    },
    "language_info": {
      "name": "python"
    }
  },
  "cells": [
    {
      "cell_type": "markdown",
      "metadata": {
        "id": "view-in-github",
        "colab_type": "text"
      },
      "source": [
        "<a href=\"https://colab.research.google.com/github/JigneshJK/Multiple_Regression_Case_Study/blob/main/JK_Multiple_Regression_Case_Study.ipynb\" target=\"_parent\"><img src=\"https://colab.research.google.com/assets/colab-badge.svg\" alt=\"Open In Colab\"/></a>"
      ]
    },
    {
      "cell_type": "markdown",
      "source": [
        "# **Multiple Regression Case Study**\n",
        "\n",
        "## **Magazine Advertising**\n",
        "\n",
        "What factors influence the price of advertisements in magazines? Suppose you are part of a team of consultants hired by a retail clothing company wishing to place advertisements in at least one magazine. They are curious about what types of costs they can expect for magazines with different readership bases, so they most effectively utilize their advertising budget. Your team has collected a dataset of 44 consumer magazines and has found that the mean cost for a one-page advertisement is $82,386, but the standard deviation is $46,191.\n",
        "\n",
        "What number should be used to best estimate the advertising costs?\n",
        "\n",
        "Your team realizes that there may be many variables affecting cost of a one-page advertisement. You have augmented the original dataset of 44 magazines by measuring more characteristics of the magazines and their audiences that may be useful in understanding the one-page advertisement costs better. The variables are the following:\n",
        "\n",
        "• Magazine Name <br>\n",
        "• Cost of a four-color, one-page ad <br>\n",
        "• Circulation (projected, in thousands) <br>\n",
        "• Percent male among the predicted readerships <br>\n",
        "• Median household income of readership\n",
        "\n",
        "Your goal is to analyze the data using Multiple Linear Regression methods and choose the best model to explain the differences in advertising costs between the different titles and then to predict what the retail clothing company should expect to pay for advertising in the different magazines.\n",
        "Answer the following questions:\n",
        "________________________________________________________________________________________________________________________________________________________________\n",
        "\n",
        "**1. Examine the variables and their relationships to each other:**\n",
        "\n",
        "a. First look at how each variable (all 4 of them) behaves on its own by creating histograms of each. Is there any apparent skewness in any of the graphs? Explain.\n",
        "\n",
        "b. Now explore the linear relationship between page cost and each of the audience variables individually by constructing scatterplots of all three pairs. Do you see any strong relationships? Are they linear? Explain your answer."
      ],
      "metadata": {
        "id": "Ld8x2L6ELuGp"
      }
    },
    {
      "cell_type": "code",
      "execution_count": 5,
      "metadata": {
        "id": "UlTzRSTDO8XX",
        "colab": {
          "base_uri": "https://localhost:8080/"
        },
        "outputId": "123cd6b4-732f-4836-dd10-2168a57fb50c"
      },
      "outputs": [
        {
          "output_type": "stream",
          "name": "stderr",
          "text": [
            "/usr/local/lib/python3.7/dist-packages/statsmodels/tools/_testing.py:19: FutureWarning: pandas.util.testing is deprecated. Use the functions in the public API at pandas.testing instead.\n",
            "  import pandas.util.testing as tm\n"
          ]
        }
      ],
      "source": [
        "#Imports\n",
        "import pandas as pd\n",
        "import numpy as np\n",
        "import matplotlib.pyplot as plt\n",
        "import seaborn as sns\n",
        "import scipy.stats as stats\n",
        "import random\n",
        "import statistics\n",
        "import math\n",
        "\n",
        "from sklearn.preprocessing import OneHotEncoder\n",
        "from sklearn.preprocessing import LabelEncoder\n",
        "from sklearn.model_selection import train_test_split\n",
        "from sklearn.linear_model import LinearRegression\n",
        "import statsmodels.api as sm\n",
        "from termcolor import colored as cl\n",
        "from statsmodels.formula.api import ols\n",
        "from sklearn.tree import DecisionTreeRegressor"
      ]
    },
    {
      "cell_type": "code",
      "source": [
        "data=pd.read_csv(\"/content/Dataset.csv\")\n",
        "data.head(0)"
      ],
      "metadata": {
        "id": "8F4x1z_kX1ll",
        "colab": {
          "base_uri": "https://localhost:8080/",
          "height": 49
        },
        "outputId": "aa19778f-8b06-4279-f432-684d7d1a631a"
      },
      "execution_count": 6,
      "outputs": [
        {
          "output_type": "execute_result",
          "data": {
            "text/plain": [
              "Empty DataFrame\n",
              "Columns: [Magazine Name, pagecost, circ, percmale, medianincome]\n",
              "Index: []"
            ],
            "text/html": [
              "\n",
              "  <div id=\"df-f2084d12-92ac-4f29-8a3b-98816c6a8852\">\n",
              "    <div class=\"colab-df-container\">\n",
              "      <div>\n",
              "<style scoped>\n",
              "    .dataframe tbody tr th:only-of-type {\n",
              "        vertical-align: middle;\n",
              "    }\n",
              "\n",
              "    .dataframe tbody tr th {\n",
              "        vertical-align: top;\n",
              "    }\n",
              "\n",
              "    .dataframe thead th {\n",
              "        text-align: right;\n",
              "    }\n",
              "</style>\n",
              "<table border=\"1\" class=\"dataframe\">\n",
              "  <thead>\n",
              "    <tr style=\"text-align: right;\">\n",
              "      <th></th>\n",
              "      <th>Magazine Name</th>\n",
              "      <th>pagecost</th>\n",
              "      <th>circ</th>\n",
              "      <th>percmale</th>\n",
              "      <th>medianincome</th>\n",
              "    </tr>\n",
              "  </thead>\n",
              "  <tbody>\n",
              "  </tbody>\n",
              "</table>\n",
              "</div>\n",
              "      <button class=\"colab-df-convert\" onclick=\"convertToInteractive('df-f2084d12-92ac-4f29-8a3b-98816c6a8852')\"\n",
              "              title=\"Convert this dataframe to an interactive table.\"\n",
              "              style=\"display:none;\">\n",
              "        \n",
              "  <svg xmlns=\"http://www.w3.org/2000/svg\" height=\"24px\"viewBox=\"0 0 24 24\"\n",
              "       width=\"24px\">\n",
              "    <path d=\"M0 0h24v24H0V0z\" fill=\"none\"/>\n",
              "    <path d=\"M18.56 5.44l.94 2.06.94-2.06 2.06-.94-2.06-.94-.94-2.06-.94 2.06-2.06.94zm-11 1L8.5 8.5l.94-2.06 2.06-.94-2.06-.94L8.5 2.5l-.94 2.06-2.06.94zm10 10l.94 2.06.94-2.06 2.06-.94-2.06-.94-.94-2.06-.94 2.06-2.06.94z\"/><path d=\"M17.41 7.96l-1.37-1.37c-.4-.4-.92-.59-1.43-.59-.52 0-1.04.2-1.43.59L10.3 9.45l-7.72 7.72c-.78.78-.78 2.05 0 2.83L4 21.41c.39.39.9.59 1.41.59.51 0 1.02-.2 1.41-.59l7.78-7.78 2.81-2.81c.8-.78.8-2.07 0-2.86zM5.41 20L4 18.59l7.72-7.72 1.47 1.35L5.41 20z\"/>\n",
              "  </svg>\n",
              "      </button>\n",
              "      \n",
              "  <style>\n",
              "    .colab-df-container {\n",
              "      display:flex;\n",
              "      flex-wrap:wrap;\n",
              "      gap: 12px;\n",
              "    }\n",
              "\n",
              "    .colab-df-convert {\n",
              "      background-color: #E8F0FE;\n",
              "      border: none;\n",
              "      border-radius: 50%;\n",
              "      cursor: pointer;\n",
              "      display: none;\n",
              "      fill: #1967D2;\n",
              "      height: 32px;\n",
              "      padding: 0 0 0 0;\n",
              "      width: 32px;\n",
              "    }\n",
              "\n",
              "    .colab-df-convert:hover {\n",
              "      background-color: #E2EBFA;\n",
              "      box-shadow: 0px 1px 2px rgba(60, 64, 67, 0.3), 0px 1px 3px 1px rgba(60, 64, 67, 0.15);\n",
              "      fill: #174EA6;\n",
              "    }\n",
              "\n",
              "    [theme=dark] .colab-df-convert {\n",
              "      background-color: #3B4455;\n",
              "      fill: #D2E3FC;\n",
              "    }\n",
              "\n",
              "    [theme=dark] .colab-df-convert:hover {\n",
              "      background-color: #434B5C;\n",
              "      box-shadow: 0px 1px 3px 1px rgba(0, 0, 0, 0.15);\n",
              "      filter: drop-shadow(0px 1px 2px rgba(0, 0, 0, 0.3));\n",
              "      fill: #FFFFFF;\n",
              "    }\n",
              "  </style>\n",
              "\n",
              "      <script>\n",
              "        const buttonEl =\n",
              "          document.querySelector('#df-f2084d12-92ac-4f29-8a3b-98816c6a8852 button.colab-df-convert');\n",
              "        buttonEl.style.display =\n",
              "          google.colab.kernel.accessAllowed ? 'block' : 'none';\n",
              "\n",
              "        async function convertToInteractive(key) {\n",
              "          const element = document.querySelector('#df-f2084d12-92ac-4f29-8a3b-98816c6a8852');\n",
              "          const dataTable =\n",
              "            await google.colab.kernel.invokeFunction('convertToInteractive',\n",
              "                                                     [key], {});\n",
              "          if (!dataTable) return;\n",
              "\n",
              "          const docLinkHtml = 'Like what you see? Visit the ' +\n",
              "            '<a target=\"_blank\" href=https://colab.research.google.com/notebooks/data_table.ipynb>data table notebook</a>'\n",
              "            + ' to learn more about interactive tables.';\n",
              "          element.innerHTML = '';\n",
              "          dataTable['output_type'] = 'display_data';\n",
              "          await google.colab.output.renderOutput(dataTable, element);\n",
              "          const docLink = document.createElement('div');\n",
              "          docLink.innerHTML = docLinkHtml;\n",
              "          element.appendChild(docLink);\n",
              "        }\n",
              "      </script>\n",
              "    </div>\n",
              "  </div>\n",
              "  "
            ]
          },
          "metadata": {},
          "execution_count": 6
        }
      ]
    },
    {
      "cell_type": "code",
      "source": [
        "data.plot()"
      ],
      "metadata": {
        "id": "LcN-U9WlZBbk",
        "colab": {
          "base_uri": "https://localhost:8080/",
          "height": 283
        },
        "outputId": "062b3dd0-928e-4364-cf30-83741161ec3d"
      },
      "execution_count": 11,
      "outputs": [
        {
          "output_type": "execute_result",
          "data": {
            "text/plain": [
              "<matplotlib.axes._subplots.AxesSubplot at 0x7fcc962f3ad0>"
            ]
          },
          "metadata": {},
          "execution_count": 11
        },
        {
          "output_type": "display_data",
          "data": {
            "text/plain": [
              "<Figure size 432x288 with 1 Axes>"
            ],
            "image/png": "[encoded data removed]"
          },
          "metadata": {
            "needs_background": "light"
          }
        }
      ]
    },
    {
      "cell_type": "code",
      "source": [
        "data['percmale'].plot(kind='hist')"
      ],
      "metadata": {
        "id": "8Tm_UNMVXnfv",
        "colab": {
          "base_uri": "https://localhost:8080/",
          "height": 283
        },
        "outputId": "d82b5a49-05f6-4d07-92c7-937f9d01ddd6"
      },
      "execution_count": 8,
      "outputs": [
        {
          "output_type": "execute_result",
          "data": {
            "text/plain": [
              "<matplotlib.axes._subplots.AxesSubplot at 0x7fcc96906310>"
            ]
          },
          "metadata": {},
          "execution_count": 8
        },
        {
          "output_type": "display_data",
          "data": {
            "text/plain": [
              "<Figure size 432x288 with 1 Axes>"
            ],
            "image/png": "[encoded data removed]"
          },
          "metadata": {
            "needs_background": "light"
          }
        }
      ]
    },
    {
      "cell_type": "code",
      "source": [
        "data['circ'].plot(kind='hist')"
      ],
      "metadata": {
        "id": "G9Qxxkr_XieF",
        "colab": {
          "base_uri": "https://localhost:8080/",
          "height": 283
        },
        "outputId": "06cc9471-e18c-430d-d2b6-e51abe54ad2f"
      },
      "execution_count": 9,
      "outputs": [
        {
          "output_type": "execute_result",
          "data": {
            "text/plain": [
              "<matplotlib.axes._subplots.AxesSubplot at 0x7fcc96917890>"
            ]
          },
          "metadata": {},
          "execution_count": 9
        },
        {
          "output_type": "display_data",
          "data": {
            "text/plain": [
              "<Figure size 432x288 with 1 Axes>"
            ],
            "image/png": "[encoded data removed]"
          },
          "metadata": {
            "needs_background": "light"
          }
        }
      ]
    },
    {
      "cell_type": "code",
      "source": [
        "data['medianincome'].plot(kind='hist')"
      ],
      "metadata": {
        "id": "z9a4IcBEYBBI",
        "colab": {
          "base_uri": "https://localhost:8080/",
          "height": 283
        },
        "outputId": "64fc1a4d-645c-407b-9770-4d47ecc1f739"
      },
      "execution_count": 10,
      "outputs": [
        {
          "output_type": "execute_result",
          "data": {
            "text/plain": [
              "<matplotlib.axes._subplots.AxesSubplot at 0x7fcc9637b610>"
            ]
          },
          "metadata": {},
          "execution_count": 10
        },
        {
          "output_type": "display_data",
          "data": {
            "text/plain": [
              "<Figure size 432x288 with 1 Axes>"
            ],
            "image/png": "[encoded data removed]"
          },
          "metadata": {
            "needs_background": "light"
          }
        }
      ]
    },
    {
      "cell_type": "code",
      "source": [
        "#a. How each variable (all 4 of them) behaves on its own by creating histograms of each\n",
        "data['pagecost'].plot(kind='hist')"
      ],
      "metadata": {
        "id": "UY_2WvW7Xqv9",
        "colab": {
          "base_uri": "https://localhost:8080/",
          "height": 283
        },
        "outputId": "843e6b50-c9d5-4680-c979-a60a08e24a44"
      },
      "execution_count": 7,
      "outputs": [
        {
          "output_type": "execute_result",
          "data": {
            "text/plain": [
              "<matplotlib.axes._subplots.AxesSubplot at 0x7fcc96a00a90>"
            ]
          },
          "metadata": {},
          "execution_count": 7
        },
        {
          "output_type": "display_data",
          "data": {
            "text/plain": [
              "<Figure size 432x288 with 1 Axes>"
            ],
            "image/png": "[encoded data removed]"
          },
          "metadata": {
            "needs_background": "light"
          }
        }
      ]
    },
    {
      "cell_type": "code",
      "source": [
        "data.plot(kind='scatter',x='pagecost',y='percmale')"
      ],
      "metadata": {
        "id": "G4zAUk_OZ-pQ",
        "colab": {
          "base_uri": "https://localhost:8080/",
          "height": 297
        },
        "outputId": "ef25ce1a-d11c-46aa-9d80-e8fcf019aa3c"
      },
      "execution_count": 13,
      "outputs": [
        {
          "output_type": "execute_result",
          "data": {
            "text/plain": [
              "<matplotlib.axes._subplots.AxesSubplot at 0x7fcc96216710>"
            ]
          },
          "metadata": {},
          "execution_count": 13
        },
        {
          "output_type": "display_data",
          "data": {
            "text/plain": [
              "<Figure size 432x288 with 1 Axes>"
            ],
            "image/png": "[encoded data removed]"
          },
          "metadata": {
            "needs_background": "light"
          }
        }
      ]
    },
    {
      "cell_type": "code",
      "source": [
        "data.plot(kind='scatter',x='pagecost',y='medianincome')"
      ],
      "metadata": {
        "id": "mjcMMamPZ-0R",
        "colab": {
          "base_uri": "https://localhost:8080/",
          "height": 297
        },
        "outputId": "a75dd56c-7f7e-4339-b0fc-e25f8785e93d"
      },
      "execution_count": 14,
      "outputs": [
        {
          "output_type": "execute_result",
          "data": {
            "text/plain": [
              "<matplotlib.axes._subplots.AxesSubplot at 0x7fcc96446cd0>"
            ]
          },
          "metadata": {},
          "execution_count": 14
        },
        {
          "output_type": "display_data",
          "data": {
            "text/plain": [
              "<Figure size 432x288 with 1 Axes>"
            ],
            "image/png": "[encoded data removed]"
          },
          "metadata": {
            "needs_background": "light"
          }
        }
      ]
    },
    {
      "cell_type": "code",
      "source": [
        "#b. Linear relationship between page cost and each of the audience variables individually by constructing scatterplots of all three pairs.\n",
        "data.plot(kind='scatter',x='pagecost',y='circ')"
      ],
      "metadata": {
        "id": "oZ82yUxHZmt2",
        "colab": {
          "base_uri": "https://localhost:8080/",
          "height": 297
        },
        "outputId": "2a97a74c-43cd-4da3-dcc0-2cd042387e24"
      },
      "execution_count": 12,
      "outputs": [
        {
          "output_type": "execute_result",
          "data": {
            "text/plain": [
              "<matplotlib.axes._subplots.AxesSubplot at 0x7fcc96296590>"
            ]
          },
          "metadata": {},
          "execution_count": 12
        },
        {
          "output_type": "display_data",
          "data": {
            "text/plain": [
              "<Figure size 432x288 with 1 Axes>"
            ],
            "image/png": "[encoded data removed]"
          },
          "metadata": {
            "needs_background": "light"
          }
        }
      ]
    },
    {
      "cell_type": "markdown",
      "source": [
        "**2. Perform a Multiple Linear Regression analysis using all the audience variables AND perform a residual analysis using the graphs.**\n",
        "\n",
        "a. Is this multiple regression model useful? Provide statistical evidence to support your answer and where appropriate use a significance level of 5%.\n",
        "\n",
        "b. What is the estimated regression equation?\n",
        "\n",
        "c. Examine each of the audience variables individually to determine which are contributing significantly to the model. Which independent variables would you recommend keeping in the model? (Use a significance level of 5%.) [Note: do not eliminate any variable(s) at this stage."
      ],
      "metadata": {
        "id": "7vWAXpt8PtEu"
      }
    },
    {
      "cell_type": "code",
      "source": [
        "#Determine pagecost\n",
        "X1_var = data[['circ','percmale','medianincome']]\n",
        "Y1_var = data['pagecost'] #dependent variable\n",
        "\n",
        "sm_X1_var = sm.add_constant(X1_var)\n",
        "mlr_model = sm.OLS(Y1_var, sm_X1_var)\n",
        "mlr_reg = mlr_model.fit()\n",
        "print(cl(mlr_reg.summary(), attrs = ['bold']))"
      ],
      "metadata": {
        "id": "1QS0Y3VIalvN",
        "colab": {
          "base_uri": "https://localhost:8080/"
        },
        "outputId": "d192ada7-bf03-4d78-9531-67a1bb329860"
      },
      "execution_count": 15,
      "outputs": [
        {
          "output_type": "stream",
          "name": "stdout",
          "text": [
            "\u001b[1m                            OLS Regression Results                            \n",
            "==============================================================================\n",
            "Dep. Variable:               pagecost   R-squared:                       0.692\n",
            "Model:                            OLS   Adj. R-squared:                  0.669\n",
            "Method:                 Least Squares   F-statistic:                     29.98\n",
            "Date:                Thu, 04 Aug 2022   Prob (F-statistic):           2.52e-10\n",
            "Time:                        14:27:15   Log-Likelihood:                -509.35\n",
            "No. Observations:                  44   AIC:                             1027.\n",
            "Df Residuals:                      40   BIC:                             1034.\n",
            "Df Model:                           3                                         \n",
            "Covariance Type:            nonrobust                                         \n",
            "================================================================================\n",
            "                   coef    std err          t      P>|t|      [0.025      0.975]\n",
            "--------------------------------------------------------------------------------\n",
            "const        -1.964e+04   2.19e+04     -0.897      0.375   -6.39e+04    2.46e+04\n",
            "circ             2.5968      0.462      5.624      0.000       1.664       3.530\n",
            "percmale       167.0061    178.814      0.934      0.356    -194.391     528.403\n",
            "medianincome     1.0431      0.557      1.874      0.068      -0.082       2.168\n",
            "==============================================================================\n",
            "Omnibus:                        8.393   Durbin-Watson:                   1.649\n",
            "Prob(Omnibus):                  0.015   Jarque-Bera (JB):                9.523\n",
            "Skew:                           0.607   Prob(JB):                      0.00855\n",
            "Kurtosis:                       4.929   Cond. No.                     2.74e+05\n",
            "==============================================================================\n",
            "\n",
            "Warnings:\n",
            "[1] Standard Errors assume that the covariance matrix of the errors is correctly specified.\n",
            "[2] The condition number is large, 2.74e+05. This might indicate that there are\n",
            "strong multicollinearity or other numerical problems.\u001b[0m\n"
          ]
        },
        {
          "output_type": "stream",
          "name": "stderr",
          "text": [
            "/usr/local/lib/python3.7/dist-packages/statsmodels/tsa/tsatools.py:117: FutureWarning: In a future version of pandas all arguments of concat except for the argument 'objs' will be keyword-only\n",
            "  x = pd.concat(x[::order], 1)\n"
          ]
        }
      ]
    },
    {
      "cell_type": "markdown",
      "source": [
        "**3. Often, when dealing with dependent variables that represent financial data (income, price, etc.), using the natural log of the dependent variable will help to alleviate problems that may be causing patterns in residuals/violations of the required conditions. Re-run the Multiple Regression analysis using the natural log of the page cost variable instead. Re-run the Regression using this new variable as the dependent variable against all 3 independent variables, again creating residual plot for this model.**\n",
        "\n",
        "a. Is this new multiple regression model useful? Provide statistical evidence to support your answer. Does the new Regression model seem better that the previous ones? Why or why not?\n",
        "\n",
        "b. Examine each of the audience variables individually to determine which are contributing significantly to the new model. Which audience variables would you recommend keeping in the new model? How does this compare to the results in question 2?\n",
        "\n",
        "c. Evaluate the regression assumptions of linearity and homoscedasticity by assessing your new residual plot. Be specific about your evaluation and describe any suggestions you have for remedying any problems.\n"
      ],
      "metadata": {
        "id": "mwUMu9wsT1IW"
      }
    },
    {
      "cell_type": "code",
      "source": [
        "#Determine circ\n",
        "X1_var = data[['pagecost','percmale','medianincome']]\n",
        "Y1_var = data['circ'] #dependent variable\n",
        "\n",
        "sm_X1_var = sm.add_constant(X1_var)\n",
        "mlr_model = sm.OLS(Y1_var, sm_X1_var)\n",
        "mlr_reg = mlr_model.fit()\n",
        "print(cl(mlr_reg.summary(), attrs = ['bold']))"
      ],
      "metadata": {
        "colab": {
          "base_uri": "https://localhost:8080/"
        },
        "outputId": "228c6e04-6677-4431-a33f-c915881f9922",
        "id": "0i9TcsXf_8Dq"
      },
      "execution_count": 21,
      "outputs": [
        {
          "output_type": "stream",
          "name": "stdout",
          "text": [
            "\u001b[1m                            OLS Regression Results                            \n",
            "==============================================================================\n",
            "Dep. Variable:                   circ   R-squared:                       0.657\n",
            "Model:                            OLS   Adj. R-squared:                  0.632\n",
            "Method:                 Least Squares   F-statistic:                     25.57\n",
            "Date:                Thu, 04 Aug 2022   Prob (F-statistic):           2.11e-09\n",
            "Time:                        14:39:50   Log-Likelihood:                -449.38\n",
            "No. Observations:                  44   AIC:                             906.8\n",
            "Df Residuals:                      40   BIC:                             913.9\n",
            "Df Model:                           3                                         \n",
            "Covariance Type:            nonrobust                                         \n",
            "================================================================================\n",
            "                   coef    std err          t      P>|t|      [0.025      0.975]\n",
            "--------------------------------------------------------------------------------\n",
            "const        -5830.5559   5583.913     -1.044      0.303   -1.71e+04    5454.954\n",
            "pagecost         0.1701      0.030      5.624      0.000       0.109       0.231\n",
            "percmale        15.6267     46.189      0.338      0.737     -77.725     108.978\n",
            "medianincome     0.1510      0.147      1.030      0.309      -0.145       0.447\n",
            "==============================================================================\n",
            "Omnibus:                       11.452   Durbin-Watson:                   2.180\n",
            "Prob(Omnibus):                  0.003   Jarque-Bera (JB):               12.521\n",
            "Skew:                           0.918   Prob(JB):                      0.00191\n",
            "Kurtosis:                       4.859   Cond. No.                     5.40e+05\n",
            "==============================================================================\n",
            "\n",
            "Warnings:\n",
            "[1] Standard Errors assume that the covariance matrix of the errors is correctly specified.\n",
            "[2] The condition number is large, 5.4e+05. This might indicate that there are\n",
            "strong multicollinearity or other numerical problems.\u001b[0m\n"
          ]
        },
        {
          "output_type": "stream",
          "name": "stderr",
          "text": [
            "/usr/local/lib/python3.7/dist-packages/statsmodels/tsa/tsatools.py:117: FutureWarning: In a future version of pandas all arguments of concat except for the argument 'objs' will be keyword-only\n",
            "  x = pd.concat(x[::order], 1)\n"
          ]
        }
      ]
    },
    {
      "cell_type": "code",
      "source": [
        "#Determine medianincome\n",
        "X1_var = data[['pagecost','percmale','circ']]\n",
        "Y1_var = data['medianincome'] #dependent variable\n",
        "\n",
        "sm_X1_var = sm.add_constant(X1_var)\n",
        "mlr_model = sm.OLS(Y1_var, sm_X1_var)\n",
        "mlr_reg = mlr_model.fit()\n",
        "print(cl(mlr_reg.summary(), attrs = ['bold']))"
      ],
      "metadata": {
        "colab": {
          "base_uri": "https://localhost:8080/"
        },
        "id": "lhQYn8VzTh8l",
        "outputId": "e566b59b-a867-4dcb-d5f9-5eb073deb174"
      },
      "execution_count": 22,
      "outputs": [
        {
          "output_type": "stream",
          "name": "stdout",
          "text": [
            "\u001b[1m                            OLS Regression Results                            \n",
            "==============================================================================\n",
            "Dep. Variable:           medianincome   R-squared:                       0.475\n",
            "Model:                            OLS   Adj. R-squared:                  0.435\n",
            "Method:                 Least Squares   F-statistic:                     12.05\n",
            "Date:                Thu, 04 Aug 2022   Prob (F-statistic):           9.26e-06\n",
            "Time:                        14:41:58   Log-Likelihood:                -452.12\n",
            "No. Observations:                  44   AIC:                             912.2\n",
            "Df Residuals:                      40   BIC:                             919.4\n",
            "Df Model:                           3                                         \n",
            "Covariance Type:            nonrobust                                         \n",
            "==============================================================================\n",
            "                 coef    std err          t      P>|t|      [0.025      0.975]\n",
            "------------------------------------------------------------------------------\n",
            "const       3.463e+04   2508.951     13.802      0.000    2.96e+04    3.97e+04\n",
            "pagecost       0.0774      0.041      1.874      0.068      -0.006       0.161\n",
            "percmale      84.0418     47.396      1.773      0.084     -11.748     179.832\n",
            "circ           0.1710      0.166      1.030      0.309      -0.165       0.507\n",
            "==============================================================================\n",
            "Omnibus:                        1.618   Durbin-Watson:                   2.092\n",
            "Prob(Omnibus):                  0.445   Jarque-Bera (JB):                1.106\n",
            "Skew:                           0.019   Prob(JB):                        0.575\n",
            "Kurtosis:                       2.224   Cond. No.                     2.08e+05\n",
            "==============================================================================\n",
            "\n",
            "Warnings:\n",
            "[1] Standard Errors assume that the covariance matrix of the errors is correctly specified.\n",
            "[2] The condition number is large, 2.08e+05. This might indicate that there are\n",
            "strong multicollinearity or other numerical problems.\u001b[0m\n"
          ]
        },
        {
          "output_type": "stream",
          "name": "stderr",
          "text": [
            "/usr/local/lib/python3.7/dist-packages/statsmodels/tsa/tsatools.py:117: FutureWarning: In a future version of pandas all arguments of concat except for the argument 'objs' will be keyword-only\n",
            "  x = pd.concat(x[::order], 1)\n"
          ]
        }
      ]
    },
    {
      "cell_type": "markdown",
      "source": [
        "**4. Since you have switched to using the natural log of the Pagecost variable, you now need to recreate scatter plots using this as your dependent variable and each of the 3 independent variables on the x-axis (the result will be 3 separate scatterplots). The circulation variable has the most noticeable relationship to the natural log of Pagecost. This is a logarithmic type of relationship; to transform this curved relationship into a linear kind, a natural log transformation needs to be applied to the circulation variable. Do the transformation.**\n",
        "\n",
        "a. If natural log of independent variable – Circulation and median income is taken, and Page cost and percentage of men is not transformed, examine how the independent variables are now individually contributing to determine page cost.\n",
        "\n",
        "b. Apply Z score analysis on all the independent variables and check if an outlier exists in your data and if found treat those outliers."
      ],
      "metadata": {
        "id": "A9vUob95UFNl"
      }
    },
    {
      "cell_type": "code",
      "source": [
        "data.head()"
      ],
      "metadata": {
        "id": "AcmxQ4aEf7Nq",
        "colab": {
          "base_uri": "https://localhost:8080/",
          "height": 206
        },
        "outputId": "511c738d-f144-4598-afd7-6b25dcd05434"
      },
      "execution_count": 20,
      "outputs": [
        {
          "output_type": "execute_result",
          "data": {
            "text/plain": [
              "         Magazine Name  pagecost   circ  percmale  medianincome\n",
              "0      Business India      23000   5900         6         29800\n",
              "1       Business Today     75000  12000        12         44300\n",
              "2  children's magazine     50000   5210        13         45000\n",
              "3                  CTO    150000  18000        16         34600\n",
              "4          New Horizon     46000   8900        55         33800"
            ],
            "text/html": [
              "\n",
              "  <div id=\"df-feaa204e-c2d5-414d-871a-381a152d842f\">\n",
              "    <div class=\"colab-df-container\">\n",
              "      <div>\n",
              "<style scoped>\n",
              "    .dataframe tbody tr th:only-of-type {\n",
              "        vertical-align: middle;\n",
              "    }\n",
              "\n",
              "    .dataframe tbody tr th {\n",
              "        vertical-align: top;\n",
              "    }\n",
              "\n",
              "    .dataframe thead th {\n",
              "        text-align: right;\n",
              "    }\n",
              "</style>\n",
              "<table border=\"1\" class=\"dataframe\">\n",
              "  <thead>\n",
              "    <tr style=\"text-align: right;\">\n",
              "      <th></th>\n",
              "      <th>Magazine Name</th>\n",
              "      <th>pagecost</th>\n",
              "      <th>circ</th>\n",
              "      <th>percmale</th>\n",
              "      <th>medianincome</th>\n",
              "    </tr>\n",
              "  </thead>\n",
              "  <tbody>\n",
              "    <tr>\n",
              "      <th>0</th>\n",
              "      <td>Business India</td>\n",
              "      <td>23000</td>\n",
              "      <td>5900</td>\n",
              "      <td>6</td>\n",
              "      <td>29800</td>\n",
              "    </tr>\n",
              "    <tr>\n",
              "      <th>1</th>\n",
              "      <td>Business Today</td>\n",
              "      <td>75000</td>\n",
              "      <td>12000</td>\n",
              "      <td>12</td>\n",
              "      <td>44300</td>\n",
              "    </tr>\n",
              "    <tr>\n",
              "      <th>2</th>\n",
              "      <td>children's magazine</td>\n",
              "      <td>50000</td>\n",
              "      <td>5210</td>\n",
              "      <td>13</td>\n",
              "      <td>45000</td>\n",
              "    </tr>\n",
              "    <tr>\n",
              "      <th>3</th>\n",
              "      <td>CTO</td>\n",
              "      <td>150000</td>\n",
              "      <td>18000</td>\n",
              "      <td>16</td>\n",
              "      <td>34600</td>\n",
              "    </tr>\n",
              "    <tr>\n",
              "      <th>4</th>\n",
              "      <td>New Horizon</td>\n",
              "      <td>46000</td>\n",
              "      <td>8900</td>\n",
              "      <td>55</td>\n",
              "      <td>33800</td>\n",
              "    </tr>\n",
              "  </tbody>\n",
              "</table>\n",
              "</div>\n",
              "      <button class=\"colab-df-convert\" onclick=\"convertToInteractive('df-feaa204e-c2d5-414d-871a-381a152d842f')\"\n",
              "              title=\"Convert this dataframe to an interactive table.\"\n",
              "              style=\"display:none;\">\n",
              "        \n",
              "  <svg xmlns=\"http://www.w3.org/2000/svg\" height=\"24px\"viewBox=\"0 0 24 24\"\n",
              "       width=\"24px\">\n",
              "    <path d=\"M0 0h24v24H0V0z\" fill=\"none\"/>\n",
              "    <path d=\"M18.56 5.44l.94 2.06.94-2.06 2.06-.94-2.06-.94-.94-2.06-.94 2.06-2.06.94zm-11 1L8.5 8.5l.94-2.06 2.06-.94-2.06-.94L8.5 2.5l-.94 2.06-2.06.94zm10 10l.94 2.06.94-2.06 2.06-.94-2.06-.94-.94-2.06-.94 2.06-2.06.94z\"/><path d=\"M17.41 7.96l-1.37-1.37c-.4-.4-.92-.59-1.43-.59-.52 0-1.04.2-1.43.59L10.3 9.45l-7.72 7.72c-.78.78-.78 2.05 0 2.83L4 21.41c.39.39.9.59 1.41.59.51 0 1.02-.2 1.41-.59l7.78-7.78 2.81-2.81c.8-.78.8-2.07 0-2.86zM5.41 20L4 18.59l7.72-7.72 1.47 1.35L5.41 20z\"/>\n",
              "  </svg>\n",
              "      </button>\n",
              "      \n",
              "  <style>\n",
              "    .colab-df-container {\n",
              "      display:flex;\n",
              "      flex-wrap:wrap;\n",
              "      gap: 12px;\n",
              "    }\n",
              "\n",
              "    .colab-df-convert {\n",
              "      background-color: #E8F0FE;\n",
              "      border: none;\n",
              "      border-radius: 50%;\n",
              "      cursor: pointer;\n",
              "      display: none;\n",
              "      fill: #1967D2;\n",
              "      height: 32px;\n",
              "      padding: 0 0 0 0;\n",
              "      width: 32px;\n",
              "    }\n",
              "\n",
              "    .colab-df-convert:hover {\n",
              "      background-color: #E2EBFA;\n",
              "      box-shadow: 0px 1px 2px rgba(60, 64, 67, 0.3), 0px 1px 3px 1px rgba(60, 64, 67, 0.15);\n",
              "      fill: #174EA6;\n",
              "    }\n",
              "\n",
              "    [theme=dark] .colab-df-convert {\n",
              "      background-color: #3B4455;\n",
              "      fill: #D2E3FC;\n",
              "    }\n",
              "\n",
              "    [theme=dark] .colab-df-convert:hover {\n",
              "      background-color: #434B5C;\n",
              "      box-shadow: 0px 1px 3px 1px rgba(0, 0, 0, 0.15);\n",
              "      filter: drop-shadow(0px 1px 2px rgba(0, 0, 0, 0.3));\n",
              "      fill: #FFFFFF;\n",
              "    }\n",
              "  </style>\n",
              "\n",
              "      <script>\n",
              "        const buttonEl =\n",
              "          document.querySelector('#df-feaa204e-c2d5-414d-871a-381a152d842f button.colab-df-convert');\n",
              "        buttonEl.style.display =\n",
              "          google.colab.kernel.accessAllowed ? 'block' : 'none';\n",
              "\n",
              "        async function convertToInteractive(key) {\n",
              "          const element = document.querySelector('#df-feaa204e-c2d5-414d-871a-381a152d842f');\n",
              "          const dataTable =\n",
              "            await google.colab.kernel.invokeFunction('convertToInteractive',\n",
              "                                                     [key], {});\n",
              "          if (!dataTable) return;\n",
              "\n",
              "          const docLinkHtml = 'Like what you see? Visit the ' +\n",
              "            '<a target=\"_blank\" href=https://colab.research.google.com/notebooks/data_table.ipynb>data table notebook</a>'\n",
              "            + ' to learn more about interactive tables.';\n",
              "          element.innerHTML = '';\n",
              "          dataTable['output_type'] = 'display_data';\n",
              "          await google.colab.output.renderOutput(dataTable, element);\n",
              "          const docLink = document.createElement('div');\n",
              "          docLink.innerHTML = docLinkHtml;\n",
              "          element.appendChild(docLink);\n",
              "        }\n",
              "      </script>\n",
              "    </div>\n",
              "  </div>\n",
              "  "
            ]
          },
          "metadata": {},
          "execution_count": 20
        }
      ]
    },
    {
      "cell_type": "code",
      "source": [
        "#residual analysis\n",
        "sns.residplot(x='pagecost', y='circ', data=data)\n",
        "plt.show()"
      ],
      "metadata": {
        "id": "VQ-mcvVjgZGX",
        "colab": {
          "base_uri": "https://localhost:8080/",
          "height": 279
        },
        "outputId": "3186dc52-78f9-488d-e9ca-b5011ac421cc"
      },
      "execution_count": 18,
      "outputs": [
        {
          "output_type": "display_data",
          "data": {
            "text/plain": [
              "<Figure size 432x288 with 1 Axes>"
            ],
            "image/png": "[encoded data removed]"
          },
          "metadata": {
            "needs_background": "light"
          }
        }
      ]
    },
    {
      "cell_type": "code",
      "source": [
        "sns.residplot(x='pagecost', y='percmale', data=data)\n",
        "plt.show()"
      ],
      "metadata": {
        "id": "tE0SuUFulBG0",
        "colab": {
          "base_uri": "https://localhost:8080/",
          "height": 279
        },
        "outputId": "1698499b-5ece-4fe2-edfb-00a006bb5efa"
      },
      "execution_count": 19,
      "outputs": [
        {
          "output_type": "display_data",
          "data": {
            "text/plain": [
              "<Figure size 432x288 with 1 Axes>"
            ],
            "image/png": "[encoded data removed]"
          },
          "metadata": {
            "needs_background": "light"
          }
        }
      ]
    },
    {
      "cell_type": "code",
      "source": [
        "sns.residplot(x='pagecost', y='medianincome', data=data)\n",
        "plt.show()"
      ],
      "metadata": {
        "id": "zXw30y6_lEGS",
        "colab": {
          "base_uri": "https://localhost:8080/",
          "height": 279
        },
        "outputId": "2f7780f0-1f2c-45bf-db69-34af68fdbce1"
      },
      "execution_count": 23,
      "outputs": [
        {
          "output_type": "display_data",
          "data": {
            "text/plain": [
              "<Figure size 432x288 with 1 Axes>"
            ],
            "image/png": "[encoded data removed]"
          },
          "metadata": {
            "needs_background": "light"
          }
        }
      ]
    },
    {
      "cell_type": "markdown",
      "source": [
        "**Executive Summary:**\n",
        "\n",
        "You are given the task of summarizing your findings for the board of directors of the retail clothing company. Since they are not all very well-versed in Regression techniques, you will need to explain things in easy-to-understand terms.\n",
        "\n",
        "Within the summary, explain to them why you would recommend/not recommend using Linear Regression model to best forecast the cost of one-page advertisements.\n",
        "\n",
        "Also, describe what this model indicates (very briefly) about the relationship between the page cost and your chosen variables.\n",
        "\n",
        "PS – The Dataset has been created to highlight the various concepts of Regression and to check your understanding in it. It might be a possibility that your model is not performing well with the given Dataset. In this condition, please specify your understanding on the data and if you feel your final model does not sufficiently explain page cost, include your recommendations for improving it."
      ],
      "metadata": {
        "id": "1IQJ_2D0UMGl"
      }
    }
  ]
}